{
  "nbformat": 4,
  "nbformat_minor": 0,
  "metadata": {
    "colab": {
      "provenance": [],
      "include_colab_link": true
    },
    "kernelspec": {
      "name": "python3",
      "display_name": "Python 3"
    },
    "language_info": {
      "name": "python"
    }
  },
  "cells": [
    {
      "cell_type": "markdown",
      "metadata": {
        "id": "view-in-github",
        "colab_type": "text"
      },
      "source": [
        "<a href=\"https://colab.research.google.com/github/fabiorezendegithub/imersaoiaaluragooglegemini/blob/main/C%C3%B3pia_de_Imers%C3%A3o_IA_Alura_%2B_Google_Gemini_Aula_05_Agentes_(Final).ipynb\" target=\"_parent\"><img src=\"https://colab.research.google.com/assets/colab-badge.svg\" alt=\"Open In Colab\"/></a>"
      ]
    },
    {
      "cell_type": "code",
      "source": [
        "%pip -q install google-genai"
      ],
      "metadata": {
        "id": "UCCbECexLk_h"
      },
      "execution_count": 38,
      "outputs": []
    },
    {
      "cell_type": "code",
      "source": [
        "# Configura a API Key do Google Gemini\n",
        "\n",
        "import os\n",
        "from google.colab import userdata\n",
        "\n",
        "os.environ[\"GOOGLE_API_KEY\"] = userdata.get('GOOGLE_API_KEY')"
      ],
      "metadata": {
        "id": "NfCqHo1tLk8P"
      },
      "execution_count": 39,
      "outputs": []
    },
    {
      "cell_type": "code",
      "source": [
        "# Configura o cliente da SDK do Gemini\n",
        "\n",
        "from google import genai\n",
        "\n",
        "client = genai.Client()\n",
        "\n",
        "MODEL_ID = \"gemini-2.0-flash\""
      ],
      "metadata": {
        "id": "bV4w0H5TLk5g"
      },
      "execution_count": 40,
      "outputs": []
    },
    {
      "cell_type": "code",
      "source": [
        "# Pergunta ao Gemini uma informação mais recente que seu conhecimento\n",
        "\n",
        "from IPython.display import HTML, Markdown\n",
        "\n",
        "# Perguntar pro modelo quando é a próxima imersão de IA ###############################################\n",
        "response = client.models.generate_content(\n",
        "    model=MODEL_ID,\n",
        "    contents='Quando é a próxima Imersão IA com Google Gemini da Alura?',\n",
        ")\n",
        "\n",
        "# Exibe a resposta na tela\n",
        "display(Markdown(f\"Resposta:\\n {response.text}\"))"
      ],
      "metadata": {
        "colab": {
          "base_uri": "https://localhost:8080/",
          "height": 163
        },
        "id": "Y9cBAz02xZt9",
        "outputId": "db59dafe-cac7-4b77-a215-51bf60371cb2"
      },
      "execution_count": 41,
      "outputs": [
        {
          "output_type": "display_data",
          "data": {
            "text/plain": [
              "<IPython.core.display.Markdown object>"
            ],
            "text/markdown": "Resposta:\n A Alura não tem uma data fixa para a próxima Imersão IA com Google Gemini. A melhor forma de saber quando será a próxima edição é:\n\n*   **Acompanhar as redes sociais da Alura:** Fique de olho nos perfis da Alura no [LinkedIn](https://br.linkedin.com/school/aluraonline/), [Instagram](https://www.instagram.com/aluraonline/), [YouTube](https://www.youtube.com/aluraonline), [X](https://twitter.com/AluraOnline), pois eles costumam divulgar os lançamentos de cursos e imersões por lá.\n*   **Verificar a página de Inteligência Artificial da Alura:** Acesse a página de Inteligência Artificial da Alura ([https://www.alura.com.br/inteligencia-artificial](https://www.alura.com.br/inteligencia-artificial)) e procure por novidades e anúncios.\n*   **Assinar a newsletter da Alura:** Ao se inscrever na newsletter, você receberá informações sobre os novos cursos e eventos da Alura diretamente no seu e-mail.\n\nFazendo isso, você não perderá a próxima Imersão IA com Google Gemini!"
          },
          "metadata": {}
        }
      ]
    },
    {
      "cell_type": "code",
      "source": [
        "# Pergunta ao Gemini uma informação utilizando a busca do Google como contexto\n",
        "\n",
        "response = client.models.generate_content(\n",
        "    model=MODEL_ID,\n",
        "    contents='Quando é a próxima Imersão IA com Google Gemini da Alura?',\n",
        "    config={\"tools\": [{\"google_search\": {}}]}\n",
        ")\n",
        "\n",
        "# Exibe a resposta na tela\n",
        "display(Markdown(f\"Resposta:\\n {response.text}\"))"
      ],
      "metadata": {
        "colab": {
          "base_uri": "https://localhost:8080/",
          "height": 87
        },
        "id": "lc2JPA92xbnp",
        "outputId": "f31cc19f-86ae-4562-be37-5c5f13e46de5"
      },
      "execution_count": 42,
      "outputs": [
        {
          "output_type": "display_data",
          "data": {
            "text/plain": [
              "<IPython.core.display.Markdown object>"
            ],
            "text/markdown": "Resposta:\n Com base nas informações encontradas, a Alura e o Google realizaram diversas edições da Imersão IA com Google Gemini. A edição mais recente ocorreu em maio de 2025.\n\nPara saber sobre as próximas edições, recomendo verificar diretamente no site da Alura ou nos canais de comunicação da Alura."
          },
          "metadata": {}
        }
      ]
    },
    {
      "cell_type": "code",
      "source": [
        "# Exibe a busca\n",
        "print(f\"Busca realizada: {response.candidates[0].grounding_metadata.web_search_queries}\")\n",
        "# Exibe as URLs nas quais ele se baseou\n",
        "print(f\"Páginas utilizadas na resposta: {', '.join([site.web.title for site in response.candidates[0].grounding_metadata.grounding_chunks])}\")\n",
        "print()\n",
        "display(HTML(response.candidates[0].grounding_metadata.search_entry_point.rendered_content))"
      ],
      "metadata": {
        "colab": {
          "base_uri": "https://localhost:8080/",
          "height": 117
        },
        "id": "6Cg0KNJGMgC5",
        "outputId": "d1576e4b-49fb-47f0-cf40-43b9ac8d6925"
      },
      "execution_count": 43,
      "outputs": [
        {
          "output_type": "stream",
          "name": "stdout",
          "text": [
            "Busca realizada: ['próxima Imersão IA com Google Gemini Alura']\n",
            "Páginas utilizadas na resposta: youtube.com, alura.com.br, youtube.com, educacao.mg.gov.br\n",
            "\n"
          ]
        },
        {
          "output_type": "display_data",
          "data": {
            "text/plain": [
              "<IPython.core.display.HTML object>"
            ],
            "text/html": [
              "<style>\n",
              ".container {\n",
              "  align-items: center;\n",
              "  border-radius: 8px;\n",
              "  display: flex;\n",
              "  font-family: Google Sans, Roboto, sans-serif;\n",
              "  font-size: 14px;\n",
              "  line-height: 20px;\n",
              "  padding: 8px 12px;\n",
              "}\n",
              ".chip {\n",
              "  display: inline-block;\n",
              "  border: solid 1px;\n",
              "  border-radius: 16px;\n",
              "  min-width: 14px;\n",
              "  padding: 5px 16px;\n",
              "  text-align: center;\n",
              "  user-select: none;\n",
              "  margin: 0 8px;\n",
              "  -webkit-tap-highlight-color: transparent;\n",
              "}\n",
              ".carousel {\n",
              "  overflow: auto;\n",
              "  scrollbar-width: none;\n",
              "  white-space: nowrap;\n",
              "  margin-right: -12px;\n",
              "}\n",
              ".headline {\n",
              "  display: flex;\n",
              "  margin-right: 4px;\n",
              "}\n",
              ".gradient-container {\n",
              "  position: relative;\n",
              "}\n",
              ".gradient {\n",
              "  position: absolute;\n",
              "  transform: translate(3px, -9px);\n",
              "  height: 36px;\n",
              "  width: 9px;\n",
              "}\n",
              "@media (prefers-color-scheme: light) {\n",
              "  .container {\n",
              "    background-color: #fafafa;\n",
              "    box-shadow: 0 0 0 1px #0000000f;\n",
              "  }\n",
              "  .headline-label {\n",
              "    color: #1f1f1f;\n",
              "  }\n",
              "  .chip {\n",
              "    background-color: #ffffff;\n",
              "    border-color: #d2d2d2;\n",
              "    color: #5e5e5e;\n",
              "    text-decoration: none;\n",
              "  }\n",
              "  .chip:hover {\n",
              "    background-color: #f2f2f2;\n",
              "  }\n",
              "  .chip:focus {\n",
              "    background-color: #f2f2f2;\n",
              "  }\n",
              "  .chip:active {\n",
              "    background-color: #d8d8d8;\n",
              "    border-color: #b6b6b6;\n",
              "  }\n",
              "  .logo-dark {\n",
              "    display: none;\n",
              "  }\n",
              "  .gradient {\n",
              "    background: linear-gradient(90deg, #fafafa 15%, #fafafa00 100%);\n",
              "  }\n",
              "}\n",
              "@media (prefers-color-scheme: dark) {\n",
              "  .container {\n",
              "    background-color: #1f1f1f;\n",
              "    box-shadow: 0 0 0 1px #ffffff26;\n",
              "  }\n",
              "  .headline-label {\n",
              "    color: #fff;\n",
              "  }\n",
              "  .chip {\n",
              "    background-color: #2c2c2c;\n",
              "    border-color: #3c4043;\n",
              "    color: #fff;\n",
              "    text-decoration: none;\n",
              "  }\n",
              "  .chip:hover {\n",
              "    background-color: #353536;\n",
              "  }\n",
              "  .chip:focus {\n",
              "    background-color: #353536;\n",
              "  }\n",
              "  .chip:active {\n",
              "    background-color: #464849;\n",
              "    border-color: #53575b;\n",
              "  }\n",
              "  .logo-light {\n",
              "    display: none;\n",
              "  }\n",
              "  .gradient {\n",
              "    background: linear-gradient(90deg, #1f1f1f 15%, #1f1f1f00 100%);\n",
              "  }\n",
              "}\n",
              "</style>\n",
              "<div class=\"container\">\n",
              "  <div class=\"headline\">\n",
              "    <svg class=\"logo-light\" width=\"18\" height=\"18\" viewBox=\"9 9 35 35\" fill=\"none\" xmlns=\"http://www.w3.org/2000/svg\">\n",
              "      <path fill-rule=\"evenodd\" clip-rule=\"evenodd\" d=\"M42.8622 27.0064C42.8622 25.7839 42.7525 24.6084 42.5487 23.4799H26.3109V30.1568H35.5897C35.1821 32.3041 33.9596 34.1222 32.1258 35.3448V39.6864H37.7213C40.9814 36.677 42.8622 32.2571 42.8622 27.0064V27.0064Z\" fill=\"#4285F4\"/>\n",
              "      <path fill-rule=\"evenodd\" clip-rule=\"evenodd\" d=\"M26.3109 43.8555C30.9659 43.8555 34.8687 42.3195 37.7213 39.6863L32.1258 35.3447C30.5898 36.3792 28.6306 37.0061 26.3109 37.0061C21.8282 37.0061 18.0195 33.9811 16.6559 29.906H10.9194V34.3573C13.7563 39.9841 19.5712 43.8555 26.3109 43.8555V43.8555Z\" fill=\"#34A853\"/>\n",
              "      <path fill-rule=\"evenodd\" clip-rule=\"evenodd\" d=\"M16.6559 29.8904C16.3111 28.8559 16.1074 27.7588 16.1074 26.6146C16.1074 25.4704 16.3111 24.3733 16.6559 23.3388V18.8875H10.9194C9.74388 21.2072 9.06992 23.8247 9.06992 26.6146C9.06992 29.4045 9.74388 32.022 10.9194 34.3417L15.3864 30.8621L16.6559 29.8904V29.8904Z\" fill=\"#FBBC05\"/>\n",
              "      <path fill-rule=\"evenodd\" clip-rule=\"evenodd\" d=\"M26.3109 16.2386C28.85 16.2386 31.107 17.1164 32.9095 18.8091L37.8466 13.8719C34.853 11.082 30.9659 9.3736 26.3109 9.3736C19.5712 9.3736 13.7563 13.245 10.9194 18.8875L16.6559 23.3388C18.0195 19.2636 21.8282 16.2386 26.3109 16.2386V16.2386Z\" fill=\"#EA4335\"/>\n",
              "    </svg>\n",
              "    <svg class=\"logo-dark\" width=\"18\" height=\"18\" viewBox=\"0 0 48 48\" xmlns=\"http://www.w3.org/2000/svg\">\n",
              "      <circle cx=\"24\" cy=\"23\" fill=\"#FFF\" r=\"22\"/>\n",
              "      <path d=\"M33.76 34.26c2.75-2.56 4.49-6.37 4.49-11.26 0-.89-.08-1.84-.29-3H24.01v5.99h8.03c-.4 2.02-1.5 3.56-3.07 4.56v.75l3.91 2.97h.88z\" fill=\"#4285F4\"/>\n",
              "      <path d=\"M15.58 25.77A8.845 8.845 0 0 0 24 31.86c1.92 0 3.62-.46 4.97-1.31l4.79 3.71C31.14 36.7 27.65 38 24 38c-5.93 0-11.01-3.4-13.45-8.36l.17-1.01 4.06-2.85h.8z\" fill=\"#34A853\"/>\n",
              "      <path d=\"M15.59 20.21a8.864 8.864 0 0 0 0 5.58l-5.03 3.86c-.98-2-1.53-4.25-1.53-6.64 0-2.39.55-4.64 1.53-6.64l1-.22 3.81 2.98.22 1.08z\" fill=\"#FBBC05\"/>\n",
              "      <path d=\"M24 14.14c2.11 0 4.02.75 5.52 1.98l4.36-4.36C31.22 9.43 27.81 8 24 8c-5.93 0-11.01 3.4-13.45 8.36l5.03 3.85A8.86 8.86 0 0 1 24 14.14z\" fill=\"#EA4335\"/>\n",
              "    </svg>\n",
              "    <div class=\"gradient-container\"><div class=\"gradient\"></div></div>\n",
              "  </div>\n",
              "  <div class=\"carousel\">\n",
              "    <a class=\"chip\" href=\"https://vertexaisearch.cloud.google.com/grounding-api-redirect/AbF9wXGwYOdBG4KrIY8dF4UUNUQ-FRSRsT0ZP85BDp3XO0uXvfe2yL22iooLUB6iJyFNFW0TjZOrb_IXp1I-Jv0mJ1o42MCdJFun2QXoD4zQ4DXz2g44g7FLyl0QoaVADE00NM9dB64elJjF5RoQgL5i-UMXQ3sPvBMMfCM3NutBYRvxghlnAIWiLbwhJAP9PDzeeUpRvRF5f3Lr1zs3bwDde6yVC_KtGgU7WVV0fVTEep6wOCWhYZFLhi15\">próxima Imersão IA com Google Gemini Alura</a>\n",
              "  </div>\n",
              "</div>\n"
            ]
          },
          "metadata": {}
        }
      ]
    },
    {
      "cell_type": "code",
      "source": [
        "# Instalar Framework de agentes do Google ################################################\n",
        "!pip install -q google-adk"
      ],
      "metadata": {
        "id": "a1eRPalxEnj7"
      },
      "execution_count": 44,
      "outputs": []
    },
    {
      "cell_type": "code",
      "execution_count": 45,
      "metadata": {
        "id": "aePV2bdfDeoW"
      },
      "outputs": [],
      "source": [
        "from google.adk.agents import Agent\n",
        "from google.adk.runners import Runner\n",
        "from google.adk.sessions import InMemorySessionService\n",
        "from google.adk.tools import google_search\n",
        "from google.genai import types  # Para criar conteúdos (Content e Part)\n",
        "from datetime import date\n",
        "import textwrap # Para formatar melhor a saída de texto\n",
        "from IPython.display import display, Markdown # Para exibir texto formatado no Colab\n",
        "import requests # Para fazer requisições HTTP\n",
        "import warnings\n",
        "\n",
        "warnings.filterwarnings(\"ignore\")"
      ]
    },
    {
      "cell_type": "code",
      "source": [
        "# Função auxiliar que envia uma mensagem para um agente via Runner e retorna a resposta final\n",
        "def call_agent(agent: Agent, message_text: str) -> str:\n",
        "    # Cria um serviço de sessão em memória\n",
        "    session_service = InMemorySessionService()\n",
        "    # Cria uma nova sessão (você pode personalizar os IDs conforme necessário)\n",
        "    session = session_service.create_session(app_name=agent.name, user_id=\"user1\", session_id=\"session1\")\n",
        "    # Cria um Runner para o agente\n",
        "    runner = Runner(agent=agent, app_name=agent.name, session_service=session_service)\n",
        "    # Cria o conteúdo da mensagem de entrada\n",
        "    content = types.Content(role=\"user\", parts=[types.Part(text=message_text)])\n",
        "\n",
        "    final_response = \"\"\n",
        "    # Itera assincronamente pelos eventos retornados durante a execução do agente\n",
        "    for event in runner.run(user_id=\"user1\", session_id=\"session1\", new_message=content):\n",
        "        if event.is_final_response():\n",
        "          for part in event.content.parts:\n",
        "            if part.text is not None:\n",
        "              final_response += part.text\n",
        "              final_response += \"\\n\"\n",
        "    return final_response"
      ],
      "metadata": {
        "id": "_xP4lWhsS5ko"
      },
      "execution_count": 46,
      "outputs": []
    },
    {
      "cell_type": "code",
      "source": [
        "# Função auxiliar para exibir texto formatado em Markdown no Colab\n",
        "def to_markdown(text):\n",
        "  text = text.replace('•', '  *')\n",
        "  return Markdown(textwrap.indent(text, '> ', predicate=lambda _: True))"
      ],
      "metadata": {
        "id": "8dosiodaxfFR"
      },
      "execution_count": 47,
      "outputs": []
    },
    {
      "cell_type": "code",
      "source": [
        "##########################################\n",
        "# --- Agente 1: Buscador de Notícias --- #\n",
        "##########################################\n",
        "def agente_buscador(topico, data_de_hoje):\n",
        "\n",
        "    buscador = Agent(\n",
        "        name=\"agente_buscador\",\n",
        "        model=\"gemini-2.0-flash\",\n",
        "        instruction=\"\"\"\n",
        "        Você é um assistente de pesquisa. A sua tarefa é usar a ferramenta de busca do google (google_search)\n",
        "        para recuperar as últimas notícias de lançamentos muito relevantes sobre o tópico abaixo.\n",
        "        Foque em no máximo 5 lançamentos relevantes, com base na quantidade e entusiasmo das notícias sobre ele.\n",
        "        Se um tema tiver poucas notícias ou reações entusiasmadas, é possível que ele não seja tão relevante assim\n",
        "        e pode ser substituído por outro que tenha mais.\n",
        "        Esses lançamentos relevantes devem ser atuais, de no máximo um mês antes da data de hoje.\n",
        "        \"\"\",\n",
        "        description=\"Agente que busca informações no Google\",\n",
        "        tools=[google_search]\n",
        "    )\n",
        "\n",
        "    entrada_do_agente_buscador = f\"Tópico: {topico}\\nData de hoje: {data_de_hoje}\"\n",
        "\n",
        "    lancamentos = call_agent(buscador, entrada_do_agente_buscador)\n",
        "    return lancamentos"
      ],
      "metadata": {
        "id": "o8bqIfi_DyH8"
      },
      "execution_count": 48,
      "outputs": []
    },
    {
      "cell_type": "code",
      "source": [
        "################################################\n",
        "# --- Agente 2: Planejador de posts --- #\n",
        "################################################\n",
        "def agente_planejador(topico, lancamentos_buscados):\n",
        "    planejador = Agent(\n",
        "        name=\"agente_planejador\",\n",
        "        model=\"gemini-2.0-flash\",\n",
        "        # Inserir as instruções do Agente Planejador #################################################\n",
        "        instruction=\"\"\"\n",
        "        Você é um planejador de conteúdo, especialista em redes sociais. Com base na lista de\n",
        "        lançamentos mais recentes e relevantes buscador, você deve:\n",
        "        usar a ferramenta de busca do Google (google_search) para criar um plano sobre\n",
        "        quais são os pontos mais relevantes que poderíamos abordar em um post sobre\n",
        "        cada um deles. Você também pode usar o (google_search) para encontrar mais\n",
        "        informações sobre os temas e aprofundar.\n",
        "        Ao final, você irá escolher o tema mais relevante entre eles com base nas suas pesquisas\n",
        "        e retornar esse tema, seus pontos mais relevantes, e um plano com os assuntos\n",
        "        a serem abordados no post que será escrito posteriormente.\n",
        "        \"\"\",\n",
        "        description=\"Agente que planeja posts\",\n",
        "        tools=[google_search]\n",
        "    )\n",
        "\n",
        "    entrada_do_agente_planejador = f\"Tópico:{topico}\\nLançamentos buscados: {lancamentos_buscados}\"\n",
        "    # Executa o agente\n",
        "    plano_do_post = call_agent(planejador, entrada_do_agente_planejador)\n",
        "    return plano_do_post"
      ],
      "metadata": {
        "id": "y3VO1uo5_ghO"
      },
      "execution_count": 49,
      "outputs": []
    },
    {
      "cell_type": "code",
      "source": [
        "######################################\n",
        "# --- Agente 3: Redator do Post --- #\n",
        "######################################\n",
        "def agente_redator(topico, plano_de_post):\n",
        "    redator = Agent(\n",
        "        name=\"agente_redator\",\n",
        "        model=\"gemini-2.0-flash\",\n",
        "        instruction=\"\"\"\n",
        "            Você é um Redator Criativo especializado em criar posts virais para redes sociais.\n",
        "            Você escreve posts para a empresa Alura, a maior escola online de tecnologia do Brasil.\n",
        "            Utilize o tema fornecido no plano de post e os pontos mais relevantes fornecidos e, com base nisso,\n",
        "            escreva um rascunho de post para Instagram sobre o tema indicado.\n",
        "            O post deve ser engajador, informativo, com linguagem simples e incluir 2 a 4 hashtags no final.\n",
        "            \"\"\",\n",
        "        description=\"Agente redator de posts engajadores para Instagram\"\n",
        "    )\n",
        "\n",
        "    entrada_do_agente_redator = f\"Tópico: {topico}\\nPlano de post: {plano_de_post}\"\n",
        "    # Executa o agente\n",
        "    rascunho = call_agent(redator, entrada_do_agente_redator)\n",
        "    return rascunho"
      ],
      "metadata": {
        "id": "uOqlg2TRLVh1"
      },
      "execution_count": 50,
      "outputs": []
    },
    {
      "cell_type": "code",
      "source": [
        "##########################################\n",
        "# --- Agente 4: Revisor de Qualidade --- #\n",
        "##########################################\n",
        "def agente_revisor(topico, rascunho_gerado):\n",
        "    revisor = Agent(\n",
        "        name=\"agente_revisor\",\n",
        "        model=\"gemini-2.0-flash\",\n",
        "        instruction=\"\"\"\n",
        "            Você é um Editor e Revisor de Conteúdo meticuloso, especializado em posts para redes sociais, com foco no Instagram.\n",
        "            Por ter um público jovem, entre 18 e 30 anos, use um tom de escrita adequado.\n",
        "            Revise o rascunho de post de Instagram abaixo sobre o tópico indicado, verificando clareza, concisão, correção e tom.\n",
        "            Se o rascunho estiver bom, responda apenas 'O rascunho está ótimo e pronto para publicar!'.\n",
        "            Caso haja problemas, aponte-os e sugira melhorias.\n",
        "            \"\"\",\n",
        "        description=\"Agente revisor de post para redes sociais.\"\n",
        "    )\n",
        "    entrada_do_agente_revisor = f\"Tópico: {topico}\\nRascunho: {rascunho_gerado}\"\n",
        "    # Executa o agente\n",
        "    texto_revisado = call_agent(revisor, entrada_do_agente_revisor)\n",
        "    return texto_revisado"
      ],
      "metadata": {
        "id": "_aTb1SdkLeT6"
      },
      "execution_count": 51,
      "outputs": []
    },
    {
      "cell_type": "code",
      "source": [
        "data_de_hoje = date.today().strftime(\"%d/%m/%Y\")\n",
        "\n",
        "print(\"🚀 Iniciando o Sistema de Criação de Posts para Instagram com 4 Agentes 🚀\")\n",
        "\n",
        "# --- Obter o Tópico do Usuário ---\n",
        "topico = input(\"❓ Por favor, digite o TÓPICO sobre o qual você quer criar o post de tendências: \")\n",
        "\n",
        "# Inserir lógica do sistema de agentes ################################################\n",
        "if not topico:\n",
        "    print(\"Você esqueceu de digitar o tópico!\")\n",
        "else:\n",
        "    print(f\"Maravilha! Vamos então criar o post sobre novidades em {topico}\")\n",
        "\n",
        "    lancamentos_buscados = agente_buscador(topico, data_de_hoje)\n",
        "    print(\"\\n--- 📝 Resultado do Agente 1 (Buscador) ---\\n\")\n",
        "    display(to_markdown(lancamentos_buscados))\n",
        "    print(\"--------------------------------------------------------------\")\n",
        "\n",
        "    plano_de_post = agente_planejador(topico, lancamentos_buscados)\n",
        "    print(\"\\n--- 📝 Resultado do Agente 2 (Planejador) ---\\n\")\n",
        "    display(to_markdown(plano_de_post))\n",
        "    print(\"--------------------------------------------------------------\")\n",
        "\n",
        "    rascunho_de_post = agente_redator(topico, plano_de_post)\n",
        "    print(\"\\n--- 📝 Resultado do Agente 3 (Redator) ---\\n\")\n",
        "    display(to_markdown(rascunho_de_post))\n",
        "    print(\"--------------------------------------------------------------\")\n",
        "\n",
        "    post_final = agente_revisor(topico, rascunho_de_post)\n",
        "    print(\"\\n--- 📝 Resultado do Agente 4 (Revisor) ---\\n\")\n",
        "    display(to_markdown(post_final))\n",
        "    print(\"--------------------------------------------------------------\")"
      ],
      "metadata": {
        "colab": {
          "base_uri": "https://localhost:8080/",
          "height": 1000
        },
        "id": "6xzI6LKzxxnN",
        "outputId": "424f777b-fb34-4d30-c3d3-62c1bcd26396"
      },
      "execution_count": 55,
      "outputs": [
        {
          "output_type": "stream",
          "name": "stdout",
          "text": [
            "🚀 Iniciando o Sistema de Criação de Posts para Instagram com 4 Agentes 🚀\n",
            "❓ Por favor, digite o TÓPICO sobre o qual você quer criar o post de tendências: Geopolítica global\n",
            "Maravilha! Vamos então criar o post sobre novidades em Geopolítica global\n",
            "\n",
            "--- 📝 Resultado do Agente 1 (Buscador) ---\n",
            "\n"
          ]
        },
        {
          "output_type": "display_data",
          "data": {
            "text/plain": [
              "<IPython.core.display.Markdown object>"
            ],
            "text/markdown": "> Aqui estão algumas buscas que farei para encontrar os lançamentos mais relevantes em geopolítica global:\n> \n> \n> Com base nas notícias mais recentes, aqui estão 5 desenvolvimentos geopolíticos globais relevantes:\n> \n> 1.  **A ascensão do Sul Global**: O Brasil tem se posicionado cada vez mais como parte do Sul Global, buscando parcerias com China e Rússia. A China tem aumentado seus investimentos no Brasil, principalmente nos setores de energia, infraestrutura e tecnologia. O Brasil sediará o Fórum Parlamentar do BRICS em junho. No entanto, essa postura pode acarretar hostilidade do Ocidente.\n> 2.  **O retorno de Donald Trump**: A eleição de Donald Trump para a presidência dos EUA trouxe consigo uma onda de isolacionismo. Suas ações e decisões (ou omissões) terão um impacto significativo nos eventos de política internacional em 2025. Trump tem uma postura protecionista no comércio exterior, o que gerou tensões comerciais e disputas na OMC. Ele também questionou a aliança dos EUA com a OTAN, exigindo que os países membros aumentassem seus investimentos militares.\n> 3.  **Rivalidade entre EUA e China**: A disputa tarifária entre EUA e China continua por hegemonia global. A China avança rapidamente em sua agenda de desenvolvimento tecnológico, enquanto os Estados Unidos enfrentam o dilema de manter a liderança tecnológica em um mundo cada vez mais descentralizado. A relação entre os dois países pode ser de rompimento.\n> 4.  **Conflitos armados e instabilidade geopolítica**: O conflito armado entre estados é considerado o risco global mais urgente para 2025. Os conflitos na Ucrânia, no Oriente Médio e no Sudão mantêm uma pressão constante sobre a segurança do comércio. A instabilidade geopolítica e os conflitos afetam o comércio global, com o Mar Vermelho e o Canal de Suez se tornando pontos críticos de tensão.\n> 5.  **Inteligência Artificial (IA)**: A IA está acelerando a diferença entre a América Latina e as potências globais. A IA avança, mas sem que os governos tenham criado salvaguardas ou regras adequadas. A deterioração na cooperação global colabora para isso.\n> \n"
          },
          "metadata": {}
        },
        {
          "output_type": "stream",
          "name": "stdout",
          "text": [
            "--------------------------------------------------------------\n",
            "\n",
            "--- 📝 Resultado do Agente 2 (Planejador) ---\n",
            "\n"
          ]
        },
        {
          "output_type": "display_data",
          "data": {
            "text/plain": [
              "<IPython.core.display.Markdown object>"
            ],
            "text/markdown": "> Okay, com base nos lançamentos que você forneceu, vou criar um plano de conteúdo detalhado para um post de mídia social sobre o tema mais relevante.\n> \n> Para garantir que eu tenha uma compreensão completa e possa gerar o melhor plano possível, usarei a ferramenta de busca do Google para aprofundar cada tópico.\n> \n> \n> Após analisar os resultados da pesquisa, o tema mais relevante para um post de mídia social impactante sobre geopolítica global é:\n> \n> **4. Conflitos armados e instabilidade geopolítica**: Este tema é identificado como o risco global mais urgente para 2025. Os conflitos na Ucrânia, no Oriente Médio e no Sudão exercem pressão constante sobre a segurança do comércio. A instabilidade geopolítica e os conflitos afetam o comércio global, com o Mar Vermelho e o Canal de Suez se tornando pontos críticos de tensão.\n> \n> **Pontos mais relevantes:**\n> \n> *   A escalada das tensões geopolíticas é um dos aspectos mais alarmantes, com conflitos armados entre estados classificados como o principal risco atual.\n> *   O aumento dos conflitos armados na última década, juntamente com eventos climáticos extremos, polarização social e avanços tecnológicos que facilitam a desinformação, contribuem para um cenário global instável.\n> *   A instabilidade geopolítica e os conflitos afetam o comércio global, com o Mar Vermelho e o Canal de Suez se tornando pontos críticos de tensão.\n> *   Os conflitos armados não apenas afetam as cadeias de suprimentos globais, mas também criam um ambiente de incerteza que exige uma gestão de crise eficaz.\n> \n> **Plano de Conteúdo para o Post:**\n> \n> 1.  **Título:** \"Crise Global: Conflitos Armados e a Instabilidade Geopolítica em 2025\"\n> 2.  **Introdução:**\n>     *   Comece com uma frase impactante sobre como os conflitos armados são o risco global mais urgente em 2025.\n>     *   Mencione os conflitos em andamento na Ucrânia, no Oriente Médio e no Sudão como exemplos.\n> 3.  **Desenvolvimento:**\n>     *   Explique como a escalada das tensões geopolíticas contribui para a instabilidade global.\n>     *   Discuta como os conflitos armados afetam a segurança do comércio e as cadeias de suprimentos globais.\n>     *   Destaque os pontos críticos de tensão, como o Mar Vermelho e o Canal de Suez.\n>     *   Apresente dados e estatísticas do Fórum Econômico Mundial sobre os riscos globais em 2025.\n> 4.  **Impacto:**\n>     *   Analise como a instabilidade geopolítica afeta a economia global, a segurança alimentar e os deslocamentos populacionais.\n>     *   Discuta a importância da gestão de crise e da resiliência para as empresas e organizações em um ambiente de incerteza.\n> 5.  **Conclusão:**\n>     *   Enfatize a necessidade de colaboração global para mitigar os riscos e construir um futuro mais seguro.\n>     *   Incentive os seguidores a compartilhar suas opiniões e a se manterem informados sobre os desenvolvimentos geopolíticos.\n> 6.  **Chamada para Ação:**\n>     *   Faça perguntas para estimular o engajamento, como: \"Como você acha que os conflitos globais afetarão nosso futuro?\" ou \"Quais medidas podemos tomar para promover a paz e a estabilidade?\".\n> 7.  **Hashtags:**\n>     *   Use hashtags relevantes como #geopolítica, #conflitosarmados, #riscosglobais, #instabilidade, #segurançaglobal, #comérciointernacional, #fórumeconômicomundial, #gestãodecrise, #resiliência, #colaboraçãoglobal.\n> \n> Este plano de conteúdo fornecerá um post informativo e envolvente que ajudará a aumentar a conscientização sobre os desafios geopolíticos globais e a importância da colaboração para enfrentá-los.\n> \n"
          },
          "metadata": {}
        },
        {
          "output_type": "stream",
          "name": "stdout",
          "text": [
            "--------------------------------------------------------------\n",
            "\n",
            "--- 📝 Resultado do Agente 3 (Redator) ---\n",
            "\n"
          ]
        },
        {
          "output_type": "display_data",
          "data": {
            "text/plain": [
              "<IPython.core.display.Markdown object>"
            ],
            "text/markdown": "> 🚨 **ALERTA GLOBAL: O mundo em conflito e o impacto na nossa vida!** 🚨\n> \n> Você sabia que a escalada das tensões geopolíticas é o maior risco global de 2024? 🤯 Os conflitos na Ucrânia, no Oriente Médio e no Sudão não são apenas manchetes distantes – eles afetam diretamente o comércio, a economia e a nossa segurança!\n> \n> ⚠️ **Pontos críticos:** O Mar Vermelho e o Canal de Suez, rotas cruciais para o comércio mundial, estão sob tensão constante. Isso significa cadeias de suprimentos mais lentas, produtos mais caros e um futuro incerto.\n> \n> 📈 **O que podemos fazer?** Precisamos estar informados e preparados! A instabilidade global exige que empresas e governos ajam com rapidez e inteligência. A colaboração global é fundamental para construir um futuro mais seguro e estável.\n> \n> 🗣️ **Sua vez!** Como você acha que os conflitos globais vão impactar o nosso futuro? Quais medidas podemos tomar para promover a paz e a estabilidade? Compartilhe sua opinião nos comentários! 👇\n> \n> #geopolítica #conflitosarmados #riscosglobais #segurançaglobal\n> \n"
          },
          "metadata": {}
        },
        {
          "output_type": "stream",
          "name": "stdout",
          "text": [
            "--------------------------------------------------------------\n",
            "\n",
            "--- 📝 Resultado do Agente 4 (Revisor) ---\n",
            "\n"
          ]
        },
        {
          "output_type": "display_data",
          "data": {
            "text/plain": [
              "<IPython.core.display.Markdown object>"
            ],
            "text/markdown": "> O rascunho está bom, mas podemos deixá-lo ainda melhor para engajar o público jovem do Instagram. Aqui estão algumas sugestões:\n> \n> *   **Tom:** O tom está um pouco alarmista. Podemos suavizar um pouco para não assustar tanto o público, mantendo a seriedade do tema.\n> *   **Emojis:** Estão ok, mas podemos diversificar um pouco para quebrar a seriedade do tema.\n> *   **Hashtags:** Estão boas, mas podemos adicionar algumas mais específicas para aumentar o alcance.\n> *   **Call to action:** Podemos ser mais específicos sobre como o público pode se informar e fazer a diferença.\n> \n> **Sugestão de Rascunho Revisado:**\n> \n> 🌍 **GEOPOLÍTICA: Por que os conflitos no mundo importam pra gente?** 🌍\n> \n> Já parou pra pensar como as tensões lá fora afetam o nosso dia a dia? 🤯 Em 2024, a escalada geopolítica é um dos maiores riscos globais, e os conflitos na Ucrânia, no Oriente Médio e no Sudão têm impacto direto no comércio, na economia e até na nossa segurança! 😥\n> \n> ⚠️ **Fica ligado:** O Mar Vermelho e o Canal de Suez, que são super importantes pro comércio mundial, estão em áreas de tensão. Isso pode deixar as coisas mais caras e gerar um futuro incerto. 😕\n> \n> 📈 **E aí, o que a gente pode fazer?** Se informar e se preparar! Empresas e governos precisam agir rápido e com inteligência pra lidar com essa instabilidade. A união faz a força pra construir um futuro mais seguro e estável. 💪\n> \n> 🗣️ **Sua vez!** Como você acha que esses conflitos vão mexer com o nosso futuro? Quais atitudes podemos tomar pra ajudar a promover a paz? Deixe sua opinião nos comentários! 👇\n> \n> \\#geopolítica \\#conflitos \\#notíciasinternacionais \\#paz \\#futuro \\#segurançaglobal \\#economia \\#comércioexterior\n> \n"
          },
          "metadata": {}
        },
        {
          "output_type": "stream",
          "name": "stdout",
          "text": [
            "--------------------------------------------------------------\n"
          ]
        }
      ]
    }
  ]
}